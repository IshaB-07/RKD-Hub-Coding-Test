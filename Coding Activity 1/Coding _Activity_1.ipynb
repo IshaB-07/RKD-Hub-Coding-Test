{
 "cells": [
  {
   "cell_type": "code",
   "execution_count": 1,
   "id": "585feec0-f88a-4325-a3f1-f9a1726c06b8",
   "metadata": {},
   "outputs": [
    {
     "name": "stdout",
     "output_type": "stream",
     "text": [
      "Requirement already satisfied: requests in c:\\users\\ishab\\anaconda3\\lib\\site-packages (2.31.0)\n",
      "Requirement already satisfied: charset-normalizer<4,>=2 in c:\\users\\ishab\\anaconda3\\lib\\site-packages (from requests) (2.0.4)\n",
      "Requirement already satisfied: idna<4,>=2.5 in c:\\users\\ishab\\anaconda3\\lib\\site-packages (from requests) (3.4)\n",
      "Requirement already satisfied: urllib3<3,>=1.21.1 in c:\\users\\ishab\\anaconda3\\lib\\site-packages (from requests) (2.0.7)\n",
      "Requirement already satisfied: certifi>=2017.4.17 in c:\\users\\ishab\\anaconda3\\lib\\site-packages (from requests) (2024.2.2)\n",
      "Note: you may need to restart the kernel to use updated packages.\n"
     ]
    }
   ],
   "source": [
    "pip install requests"
   ]
  },
  {
   "cell_type": "code",
   "execution_count": null,
   "id": "a2bcd305-93a6-45cc-840a-9c5dffc60966",
   "metadata": {},
   "outputs": [
    {
     "name": "stdout",
     "output_type": "stream",
     "text": [
      "1. Get weather for a city\n",
      "2. Add a city to your favourites\n",
      "3. List your favourite cities\n",
      "4. Remove city from the list\n",
      "5. Exit the application\n"
     ]
    },
    {
     "name": "stdin",
     "output_type": "stream",
     "text": [
      "Choose an option (1-5):  1\n",
      "Enter the city name:  Bharuch\n"
     ]
    },
    {
     "name": "stdout",
     "output_type": "stream",
     "text": [
      "Weather in Bharūch:\n",
      "Temperature: 31.55°C\n",
      "Humidity: 27%\n",
      "Condition: clear sky\n",
      "\n",
      "1. Get weather for a city\n",
      "2. Add a city to your favourites\n",
      "3. List your favourite cities\n",
      "4. Remove city from the list\n",
      "5. Exit the application\n"
     ]
    },
    {
     "name": "stdin",
     "output_type": "stream",
     "text": [
      "Choose an option (1-5):  2\n",
      "Enter the city name to add to favourites:  Bharuch\n"
     ]
    },
    {
     "name": "stdout",
     "output_type": "stream",
     "text": [
      "Bharuch has been added to your favourites!\n",
      "\n",
      "1. Get weather for a city\n",
      "2. Add a city to your favourites\n",
      "3. List your favourite cities\n",
      "4. Remove city from the list\n",
      "5. Exit the application\n"
     ]
    },
    {
     "name": "stdin",
     "output_type": "stream",
     "text": [
      "Choose an option (1-5):  2\n",
      "Enter the city name to add to favourites:  Bharuch\n"
     ]
    },
    {
     "name": "stdout",
     "output_type": "stream",
     "text": [
      "Bharuch is already in your favourites list.\n",
      "\n",
      "1. Get weather for a city\n",
      "2. Add a city to your favourites\n",
      "3. List your favourite cities\n",
      "4. Remove city from the list\n",
      "5. Exit the application\n"
     ]
    }
   ],
   "source": [
    "import requests  # Library for making web requests\n",
    "\n",
    "# API Key and URL for OpenWeather\n",
    "API_KEY = 'ef508894b2c182477ec7fe1b3fdc9066'  # You need to replace this with your own API key from OpenWeather\n",
    "BASE_URL = \"http://api.openweathermap.org/data/2.5/weather?\"\n",
    "\n",
    "# List to store favourite cities (with a limit of 3 cities)\n",
    "favourite_cities = []\n",
    "\n",
    "# Function to get weather for a city\n",
    "def get_weather(city_name):\n",
    "    \"\"\"API REQUEST BY CITY NAME: https://api.openweathermap.org/data/2.5/weather?q={city name}&appid={API key}\"\"\"\n",
    "    url = f\"{BASE_URL}q={city_name}&appid={API_KEY}&units=metric\"  # Build URL with the city name and API key\n",
    "    response = requests.get(url)  # Send request to OpenWeather API\n",
    "    \n",
    "    # If the request is successful\n",
    "    if response.status_code == 200:\n",
    "        data = response.json()  # Convert the response to JSON format (a Python dictionary)\n",
    "        \n",
    "        # Extract weather data\n",
    "        city = data['name']\n",
    "        temperature = data['main']['temp']\n",
    "        humidity = data['main']['humidity']\n",
    "        weather_description = data['weather'][0]['description']\n",
    "\n",
    "        # Print the weather data\n",
    "        print(f\"Weather in {city}:\")\n",
    "        print(f\"Temperature: {temperature}°C\")\n",
    "        print(f\"Humidity: {humidity}%\")\n",
    "        print(f\"Condition: {weather_description}\\n\")\n",
    "    else:\n",
    "        print(\"Sorry, we couldn't find that city. Please try again.\\n\")\n",
    "\n",
    "# Function to add a city to the favourites list\n",
    "def add_to_favourites(city_name):\n",
    "    city_name = city_name.strip()  # Remove any leading or trailing spaces\n",
    "    \n",
    "    if not city_name:  # Check if the city name is empty after trimming spaces\n",
    "        print(\"City name cannot be empty. Please enter a valid city name.\\n\")\n",
    "        return\n",
    "    \n",
    "    if city_name in favourite_cities:  # Check if the city is already in the favourites list\n",
    "        print(f\"{city_name} is already in your favourites list.\\n\")\n",
    "        return\n",
    "    \n",
    "    favourite_cities.append(city_name)  # Add city to the list\n",
    "    print(f\"{city_name} has been added to your favourites!\\n\")\n",
    "\n",
    "# Function to remove a city from the favourites list\n",
    "def remove_from_favourites():\n",
    "    if not favourite_cities:\n",
    "        print(\"You have no cities to remove.\\n\")\n",
    "        return\n",
    "    \n",
    "    print(\"Your favourite cities:\")\n",
    "    for index, city in enumerate(favourite_cities, start=1):\n",
    "        print(f\"{index}. {city}\")\n",
    "    \n",
    "    try:\n",
    "        city_index = int(input(\"Enter the number of the city you want to remove: \"))\n",
    "        if 1 <= city_index <= len(favourite_cities):\n",
    "            removed_city = favourite_cities.pop(city_index - 1)  # Remove the city by index\n",
    "            print(f\"{removed_city} has been removed from your favourites.\\n\")\n",
    "        else:\n",
    "            print(\"Invalid city number.\\n\")\n",
    "    except ValueError:\n",
    "        print(\"Please enter a valid number.\\n\")\n",
    "\n",
    "# Function to list all favourite cities and their weather\n",
    "def list_favourites():\n",
    "    if len(favourite_cities) == 0:\n",
    "        print(\"You have no favourite cities yet.\\n\")\n",
    "        return\n",
    "    \n",
    "    print(\"Your favourite cities and their weather:\")\n",
    "    for city in favourite_cities:\n",
    "        get_weather(city)  # Get and display weather for each city in favourites\n",
    "    print()  # Add an empty line after listing favourites\n",
    "\n",
    "# Main function to run the app\n",
    "def main():\n",
    "    while True:\n",
    "        # Show a simple menu with options for the user\n",
    "        print(\"1. Get weather for a city\")\n",
    "        print(\"2. Add a city to your favourites\")\n",
    "        print(\"3. List your favourite cities\")\n",
    "        print(\"4. Remove city from the list\")\n",
    "        print(\"5. Exit the application\")\n",
    "        \n",
    "        # Ask the user to choose an option\n",
    "        choice = input(\"Choose an option (1-5): \").strip()\n",
    "\n",
    "        # Option 1: Get weather for a city\n",
    "        if choice == \"1\":\n",
    "            city_name = input(\"Enter the city name: \").strip()  # Ask for city name\n",
    "            get_weather(city_name)\n",
    "\n",
    "        # Option 2: Add a city to favourites\n",
    "        elif choice == \"2\":\n",
    "            if len(favourite_cities) >= 3:  # Check if there are already 3 cities\n",
    "                print(\"You can only have 3 favourite cities. Please remove one before adding a new one.\\n\")\n",
    "            else:\n",
    "                city_name = input(\"Enter the city name to add to favourites: \").strip()\n",
    "                add_to_favourites(city_name)\n",
    "\n",
    "        # Option 3: List all favourite cities\n",
    "        elif choice == \"3\":\n",
    "            list_favourites()\n",
    "\n",
    "        # Option 4: Remove a city from favourites\n",
    "        elif choice == \"4\":\n",
    "            remove_from_favourites()\n",
    "\n",
    "        # Option 5: Exit the app\n",
    "        elif choice == \"5\":\n",
    "            print(\"Thank you for using the weather app! Goodbye!\")\n",
    "            break\n",
    "\n",
    "        # If the user enters something invalid\n",
    "        else:\n",
    "            print(\"Invalid option. Please choose a number between 1 and 5.\\n\")\n",
    "\n",
    "# Run the app\n",
    "if __name__ == \"__main__\":\n",
    "    main()\n"
   ]
  },
  {
   "cell_type": "code",
   "execution_count": null,
   "id": "cb4ff4ed-b075-4d6e-bdf5-2955f0e0cdc5",
   "metadata": {},
   "outputs": [],
   "source": []
  }
 ],
 "metadata": {
  "kernelspec": {
   "display_name": "Python 3 (ipykernel)",
   "language": "python",
   "name": "python3"
  },
  "language_info": {
   "codemirror_mode": {
    "name": "ipython",
    "version": 3
   },
   "file_extension": ".py",
   "mimetype": "text/x-python",
   "name": "python",
   "nbconvert_exporter": "python",
   "pygments_lexer": "ipython3",
   "version": "3.11.7"
  }
 },
 "nbformat": 4,
 "nbformat_minor": 5
}
